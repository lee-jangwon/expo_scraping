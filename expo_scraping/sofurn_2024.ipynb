{
 "cells": [
  {
   "cell_type": "code",
   "execution_count": 51,
   "metadata": {},
   "outputs": [],
   "source": [
    "import pandas as pd\n",
    "import requests\n",
    "import re\n",
    "from datetime import datetime\n",
    "from pathlib import Path\n",
    "from bs4 import BeautifulSoup"
   ]
  },
  {
   "cell_type": "code",
   "execution_count": 11,
   "metadata": {},
   "outputs": [],
   "source": [
    "import logging\n",
    "\n",
    "logger = logging.getLogger(__name__)\n",
    "logging.basicConfig(filename=f\"sofurn_2024_{datetime.today().strftime('%y%m%d-%H%m')}.log\", encoding=\"utf-8\", level=logging.DEBUG)"
   ]
  },
  {
   "cell_type": "code",
   "execution_count": 15,
   "metadata": {},
   "outputs": [],
   "source": [
    "URL = \"https://www.sofurn.or.kr/community/reference/id/\"\n",
    "RANGE_2024 = [str(i) for i in range(284,329)]"
   ]
  },
  {
   "cell_type": "code",
   "execution_count": 12,
   "metadata": {},
   "outputs": [],
   "source": [
    "def get_content(url: str) -> BeautifulSoup:\n",
    "    response = requests.get(url)\n",
    "    if response.status_code == 200:\n",
    "        return BeautifulSoup(response.text, \"html.parser\")\n",
    "    else:\n",
    "        logger.debug(f\"[DEBUG] Get content error: {response.status_code}\\nProblem URL: {url}\")\n",
    "        "
   ]
  },
  {
   "cell_type": "code",
   "execution_count": 24,
   "metadata": {},
   "outputs": [],
   "source": [
    "test_url = \"\".join([URL, \"289\"])\n",
    "soup = get_content(test_url)"
   ]
  },
  {
   "cell_type": "code",
   "execution_count": 46,
   "metadata": {},
   "outputs": [
    {
     "name": "stdout",
     "output_type": "stream",
     "text": [
      "0: 참가품목 : 헬스&뷰티\n",
      "1: 헬스&뷰티\n"
     ]
    }
   ],
   "source": [
    "for idx, elem in enumerate(soup.find_all(\"table\", attrs={\"role\": \"presentation\", \"class\": \"stb-one-col\"})[1].tbody.tr.td.div.find_all(\"span\")):\n",
    "    print(f\"{idx}: {elem.text}\")"
   ]
  },
  {
   "cell_type": "code",
   "execution_count": 84,
   "metadata": {},
   "outputs": [],
   "source": [
    "def parse_content(soup: BeautifulSoup) -> dict:\n",
    "    title = soup.find_all(\"td\", class_=\"title\")[0].text if soup.find_all(\"td\", class_=\"title\") else None\n",
    "\n",
    "    category_pattern = r\"참가품목\\s*:\\s*([^\\d\\s&]+&?[^\\d\\s&]+)주요제품\"\n",
    "    product_pattern = r\"주요제품\\s*:\\s*([^\\n]*)대표전화\"\n",
    "    phone_pattern = r\"대표전화\\s*:\\s*(\\d*-\\d*-\\d*)\"\n",
    "    address_pattern = r\"주\\s*소\\s*:\\s*([^\\n]*)\"\n",
    "\n",
    "    html_text = soup.get_text()\n",
    "\n",
    "    category_match = re.search(category_pattern, html_text)\n",
    "    product_match = re.search(product_pattern, html_text)\n",
    "    phone_match = re.search(phone_pattern, html_text)\n",
    "    address_match = re.search(address_pattern, html_text)\n",
    "\n",
    "    category = category_match.group(1).strip() if category_match else \"\"\n",
    "    product = product_match.group(1).strip() if product_match else \"\"\n",
    "    phone = phone_match.group(1).strip() if phone_match else \"\"\n",
    "    address = address_match.group(1).strip() if address_match else \"\"\n",
    "\n",
    "    return {\n",
    "        \"title\", title\n",
    "        \"category\": category,\n",
    "        \"product\": product,\n",
    "        \"phone\": phone,\n",
    "        \"address\": address\n",
    "    }"
   ]
  },
  {
   "cell_type": "code",
   "execution_count": 85,
   "metadata": {},
   "outputs": [],
   "source": [
    "d = parse_content(soup)"
   ]
  },
  {
   "cell_type": "code",
   "execution_count": 86,
   "metadata": {},
   "outputs": [
    {
     "data": {
      "text/plain": [
       "{'category': '헬스&뷰티',\n",
       " 'product': '이온수 샤워기',\n",
       " 'phone': '032-670-8878',\n",
       " 'address': '경기 부천시 도약로261,대우테크노파크 B동608호기능성 샤워기 제조업체 투투입니다-욕실,주방수전 전문 제조업체. 다양한 기능을 가진 기능성 샤워기입니다.홈페이지'}"
      ]
     },
     "execution_count": 86,
     "metadata": {},
     "output_type": "execute_result"
    }
   ],
   "source": [
    "d"
   ]
  },
  {
   "cell_type": "code",
   "execution_count": 88,
   "metadata": {},
   "outputs": [
    {
     "name": "stdout",
     "output_type": "stream",
     "text": [
      "category:헬스&뷰티\n",
      "product:이온수 샤워기\n",
      "phone:032-670-8878\n",
      "address:경기 부천시 도약로261,대우테크노파크 B동608호기능성 샤워기 제조업체 투투입니다-욕실,주방수전 전문 제조업체. 다양한 기능을 가진 기능성 샤워기입니다.홈페이지\n"
     ]
    }
   ],
   "source": [
    "for k,v in d.items():\n",
    "    print(f\"{k}:{v}\")"
   ]
  },
  {
   "cell_type": "code",
   "execution_count": 55,
   "metadata": {},
   "outputs": [],
   "source": [
    "test_file = Path(\".\").absolute() / \"__init__.py\""
   ]
  },
  {
   "cell_type": "code",
   "execution_count": 56,
   "metadata": {},
   "outputs": [
    {
     "name": "stdout",
     "output_type": "stream",
     "text": [
      "/home/ljin/Projects/expo_scraping/expo_scraping/__init__.py\n"
     ]
    }
   ],
   "source": [
    "print(test_file)"
   ]
  },
  {
   "cell_type": "code",
   "execution_count": 57,
   "metadata": {},
   "outputs": [
    {
     "data": {
      "text/plain": [
       "True"
      ]
     },
     "execution_count": 57,
     "metadata": {},
     "output_type": "execute_result"
    }
   ],
   "source": [
    "test_file.exists()"
   ]
  },
  {
   "cell_type": "code",
   "execution_count": 98,
   "metadata": {},
   "outputs": [],
   "source": [
    "def build_csv(url: str, filename: Path):\n",
    "    if not filename.exists():\n",
    "        with open(str(filename), \"w\") as f:\n",
    "            f.write(\"id,company,category,product,phone,address\\n\")\n",
    "    \n",
    "    for i, idx in enumerate(RANGE_2024):\n",
    "        _url = \"\".join([url, idx])\n",
    "        soup = get_content(_url)\n",
    "        \n",
    "        parsed_dict = parse_content(soup)\n",
    "        with open(str(filename), \"a\") as f2:\n",
    "            f2.write(f'{i},\\\"{parsed_dict.get(\"company\")}\\\",\\\"{parsed_dict.get(\"category\")}\\\",\\\"{parsed_dict.get(\"product\")}\\\",{parsed_dict.get(\"phone\")},\\\"{parsed_dict.get(\"address\")}\\\"\\n')\n",
    "    "
   ]
  },
  {
   "cell_type": "code",
   "execution_count": 99,
   "metadata": {},
   "outputs": [],
   "source": [
    "result_file_path = Path(\".\").absolute() / \"parsed_sofurn.csv\""
   ]
  },
  {
   "cell_type": "code",
   "execution_count": 100,
   "metadata": {},
   "outputs": [],
   "source": [
    "build_csv(url=URL, filename=result_file_path)"
   ]
  },
  {
   "cell_type": "code",
   "execution_count": null,
   "metadata": {},
   "outputs": [],
   "source": []
  }
 ],
 "metadata": {
  "kernelspec": {
   "display_name": ".venv",
   "language": "python",
   "name": "python3"
  },
  "language_info": {
   "codemirror_mode": {
    "name": "ipython",
    "version": 3
   },
   "file_extension": ".py",
   "mimetype": "text/x-python",
   "name": "python",
   "nbconvert_exporter": "python",
   "pygments_lexer": "ipython3",
   "version": "3.10.12"
  }
 },
 "nbformat": 4,
 "nbformat_minor": 2
}
