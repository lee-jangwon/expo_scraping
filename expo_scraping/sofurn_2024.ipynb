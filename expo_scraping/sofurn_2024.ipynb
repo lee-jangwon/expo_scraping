{
 "cells": [
  {
   "cell_type": "code",
   "execution_count": 1,
   "metadata": {},
   "outputs": [],
   "source": [
    "import pandas as pd\n",
    "import requests\n",
    "import re\n",
    "from datetime import datetime\n",
    "from pathlib import Path\n",
    "from bs4 import BeautifulSoup"
   ]
  },
  {
   "cell_type": "code",
   "execution_count": 2,
   "metadata": {},
   "outputs": [],
   "source": [
    "import logging\n",
    "\n",
    "logger = logging.getLogger(__name__)\n",
    "logging.basicConfig(\n",
    "    filename=f\"sofurn_2024_{datetime.today().strftime('%y%m%d-%H%m')}.log\",\n",
    "    encoding=\"utf-8\",\n",
    "    level=logging.DEBUG,\n",
    ")"
   ]
  },
  {
   "cell_type": "markdown",
   "metadata": {},
   "source": [
    "## 크롤링 방법\n",
    "각 회사마다 페이지를 만들어주고, id를 1씩 증가했다.\n",
    "2023년의 마지막 id가 283이었고, 올해 참석한 업체 마지막 아이디가 329였다."
   ]
  },
  {
   "cell_type": "code",
   "execution_count": 24,
   "metadata": {},
   "outputs": [],
   "source": [
    "URL = \"https://www.sofurn.or.kr/community/reference/id/\"\n",
    "RANGE_2024 = [str(i) for i in range(284, 329 + 1)]"
   ]
  },
  {
   "cell_type": "code",
   "execution_count": 4,
   "metadata": {},
   "outputs": [],
   "source": [
    "def get_content(url: str) -> BeautifulSoup:\n",
    "    response = requests.get(url)\n",
    "    if response.status_code == 200:\n",
    "        return BeautifulSoup(response.text, \"html.parser\")\n",
    "    else:\n",
    "        logger.debug(\n",
    "            f\"[DEBUG] Get content error: {response.status_code}\\nProblem URL: {url}\"\n",
    "        )"
   ]
  },
  {
   "cell_type": "code",
   "execution_count": 5,
   "metadata": {},
   "outputs": [],
   "source": [
    "test_url = \"\".join([URL, \"289\"])\n",
    "soup = get_content(test_url)"
   ]
  },
  {
   "cell_type": "code",
   "execution_count": 6,
   "metadata": {},
   "outputs": [],
   "source": [
    "a = soup.find_all(\"div\", class_=\"table notice-table\")[0].table.thead.tr.td.text"
   ]
  },
  {
   "cell_type": "code",
   "execution_count": 7,
   "metadata": {},
   "outputs": [
    {
     "data": {
      "text/plain": [
       "'2024 소펀&라이프쇼 브랜드 : 투투 시스템 샤워기'"
      ]
     },
     "execution_count": 7,
     "metadata": {},
     "output_type": "execute_result"
    }
   ],
   "source": [
    "a"
   ]
  },
  {
   "cell_type": "code",
   "execution_count": 17,
   "metadata": {},
   "outputs": [],
   "source": [
    "def parse_content(soup: BeautifulSoup) -> dict:\n",
    "    title = soup.find_all(\"div\", class_=\"table notice-table\")[0].table.thead.tr.td.text\n",
    "    title = title.split(\":\")[1].strip()\n",
    "\n",
    "    category_pattern = r\"참가품목\\s*:\\s*([^\\d\\s&]+&?[^\\d\\s&]+)주요제품\"\n",
    "    product_pattern = r\"주요제품\\s*:\\s*([^\\n]*)대표전화\"\n",
    "    phone_pattern = r\"대표전화\\s*:\\s*(\\d*-\\d*-\\d*)\"\n",
    "    address_pattern = r\"주\\s*소\\s*:\\s*([^\\n]*)\"\n",
    "\n",
    "    html_text = soup.get_text()\n",
    "\n",
    "    category_match = re.search(category_pattern, html_text)\n",
    "    product_match = re.search(product_pattern, html_text)\n",
    "    phone_match = re.search(phone_pattern, html_text)\n",
    "    address_match = re.search(address_pattern, html_text)\n",
    "\n",
    "    category = category_match.group(1).strip() if category_match else \"\"\n",
    "    product = product_match.group(1).strip() if product_match else \"\"\n",
    "    phone = phone_match.group(1).strip() if phone_match else \"\"\n",
    "    address = address_match.group(1).strip() if address_match else \"\"\n",
    "\n",
    "    # homepage & sns는 a tag 사용\n",
    "    homepage_link = soup.find(\"a\", string=\"홈페이지\")\n",
    "    sns_link = soup.find(\"a\", \"SNS 바로가기\")\n",
    "\n",
    "    homepage_href = homepage_link[\"href\"] if homepage_link else \"\"\n",
    "    sns_href = sns_link[\"href\"] if sns_link else \"\"\n",
    "\n",
    "    return {\n",
    "        \"title\": title,\n",
    "        \"category\": category,\n",
    "        \"product\": product,\n",
    "        \"phone\": phone,\n",
    "        \"address\": address,\n",
    "        \"url\": homepage_href,\n",
    "        \"sns\": sns_href,\n",
    "    }"
   ]
  },
  {
   "cell_type": "code",
   "execution_count": 18,
   "metadata": {},
   "outputs": [],
   "source": [
    "d = parse_content(soup)"
   ]
  },
  {
   "cell_type": "code",
   "execution_count": 19,
   "metadata": {},
   "outputs": [
    {
     "data": {
      "text/plain": [
       "{'title': '투투 시스템 샤워기',\n",
       " 'category': '헬스&뷰티',\n",
       " 'product': '이온수 샤워기',\n",
       " 'phone': '032-670-8878',\n",
       " 'address': '경기 부천시 도약로261,대우테크노파크 B동608호기능성 샤워기 제조업체 투투입니다-욕실,주방수전 전문 제조업체. 다양한 기능을 가진 기능성 샤워기입니다.홈페이지',\n",
       " 'url': 'http://www.twotwo2.com',\n",
       " 'sns': ''}"
      ]
     },
     "execution_count": 19,
     "metadata": {},
     "output_type": "execute_result"
    }
   ],
   "source": [
    "d"
   ]
  },
  {
   "cell_type": "code",
   "execution_count": 11,
   "metadata": {},
   "outputs": [
    {
     "name": "stdout",
     "output_type": "stream",
     "text": [
      "title:2024 소펀&라이프쇼 브랜드 : 투투 시스템 샤워기\n",
      "category:헬스&뷰티\n",
      "product:이온수 샤워기\n",
      "phone:032-670-8878\n",
      "address:경기 부천시 도약로261,대우테크노파크 B동608호기능성 샤워기 제조업체 투투입니다-욕실,주방수전 전문 제조업체. 다양한 기능을 가진 기능성 샤워기입니다.홈페이지\n",
      "url:\n"
     ]
    }
   ],
   "source": [
    "for k, v in d.items():\n",
    "    print(f\"{k}:{v}\")"
   ]
  },
  {
   "cell_type": "code",
   "execution_count": 20,
   "metadata": {},
   "outputs": [],
   "source": [
    "def build_csv(url: str, filename: Path):\n",
    "    if not filename.exists():\n",
    "        with open(str(filename), \"w\") as f:\n",
    "            f.write(\"id,company,category,product,phone,address,url,sns\\n\")\n",
    "\n",
    "    for i, idx in enumerate(RANGE_2024):\n",
    "        _url = \"\".join([url, idx])\n",
    "        soup = get_content(_url)\n",
    "\n",
    "        parsed_dict = parse_content(soup)\n",
    "        with open(str(filename), \"a\") as f2:\n",
    "            f2.write(\n",
    "                f'{i},\"{parsed_dict.get(\"title\")}\",\"{parsed_dict.get(\"category\")}\",\"{parsed_dict.get(\"product\")}\",{parsed_dict.get(\"phone\")},\"{parsed_dict.get(\"address\")}\",\"{parsed_dict.get(\"url\")}\",\"{parsed_dict.get(\"sns\")}\"\\n'\n",
    "            )"
   ]
  },
  {
   "cell_type": "code",
   "execution_count": 21,
   "metadata": {},
   "outputs": [],
   "source": [
    "result_file_path = Path(\".\").absolute() / \"parsed_sofurn.csv\""
   ]
  },
  {
   "cell_type": "code",
   "execution_count": 23,
   "metadata": {},
   "outputs": [],
   "source": [
    "build_csv(url=URL, filename=result_file_path)"
   ]
  },
  {
   "cell_type": "code",
   "execution_count": null,
   "metadata": {},
   "outputs": [],
   "source": []
  }
 ],
 "metadata": {
  "kernelspec": {
   "display_name": ".venv",
   "language": "python",
   "name": "python3"
  },
  "language_info": {
   "codemirror_mode": {
    "name": "ipython",
    "version": 3
   },
   "file_extension": ".py",
   "mimetype": "text/x-python",
   "name": "python",
   "nbconvert_exporter": "python",
   "pygments_lexer": "ipython3",
   "version": "3.10.12"
  }
 },
 "nbformat": 4,
 "nbformat_minor": 2
}
